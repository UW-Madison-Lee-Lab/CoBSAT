{
 "cells": [
  {
   "cell_type": "code",
   "execution_count": 1,
   "metadata": {},
   "outputs": [],
   "source": [
    "import os, sys\n",
    "root_dir = os.path.dirname(os.getcwd())\n",
    "sys.path.append(root_dir)"
   ]
  },
  {
   "cell_type": "code",
   "execution_count": 2,
   "metadata": {},
   "outputs": [],
   "source": [
    "# Plotting bar plots for each cluster\n",
    "clusters = [\n",
    "    'Color-I', 'Color-II', \n",
    "    'Count-I', 'Count-II',\n",
    "    'Style-I', 'Style-II',\n",
    "    'Action-I', 'Action-II',\n",
    "    'Background-I', 'Background-II',\n",
    "]\n",
    "\n",
    "model_str = {\n",
    "    'Emu': 'Emu',\n",
    "    'SEED-LLaMA': 'SEED',\n",
    "    'GILL': 'gill'\n",
    "}"
   ]
  },
  {
   "cell_type": "code",
   "execution_count": null,
   "metadata": {},
   "outputs": [],
   "source": [
    "def get_level_image(model, level, metric, dataset_id, x, theta):\n",
    "    results_dir = os.path.join(root_dir, 'results')\n",
    "    detail_folders = [\n",
    "        os.path.join(results_dir, f'{metric[0]}_evaluation/detail'),\n",
    "        os.path.join(results_dir, f'{metric[0]}_evaluation_m/detail')\n",
    "    ]\n",
    "    for detail_folder in detail_folders:\n",
    "        for file in os.listdir(detail_folder):\n",
    "            if model in file.lower() and f'[{dataset_id}]' in file and not '(' in file:\n",
    "                \n",
    "    \n",
    "    "
   ]
  }
 ],
 "metadata": {
  "kernelspec": {
   "display_name": "micl",
   "language": "python",
   "name": "python3"
  },
  "language_info": {
   "codemirror_mode": {
    "name": "ipython",
    "version": 3
   },
   "file_extension": ".py",
   "mimetype": "text/x-python",
   "name": "python",
   "nbconvert_exporter": "python",
   "pygments_lexer": "ipython3",
   "version": "3.9.18"
  }
 },
 "nbformat": 4,
 "nbformat_minor": 2
}
